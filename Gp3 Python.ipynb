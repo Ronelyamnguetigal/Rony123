{
 "cells": [
  {
   "cell_type": "code",
   "execution_count": null,
   "id": "d38d7556",
   "metadata": {},
   "outputs": [],
   "source": [
    "##EXERCICES POUR LA CONFRONTATION PAR ÉQUIPE"
   ]
  },
  {
   "cell_type": "markdown",
   "id": "c5773fcc",
   "metadata": {},
   "source": [
    "# excercice 1 : \n",
    "##### code trop serrer;\n",
    "##### l'instrution de l'exercice n'est pas respecté car vous n'avez pas utiliser une fonction. \n",
    "##### code surcharger "
   ]
  },
  {
   "cell_type": "code",
   "execution_count": 37,
   "id": "64dc67fb",
   "metadata": {},
   "outputs": [
    {
     "ename": "SyntaxError",
     "evalue": "invalid syntax (<ipython-input-37-e50779bef994>, line 12)",
     "output_type": "error",
     "traceback": [
      "\u001b[0;36m  File \u001b[0;32m\"<ipython-input-37-e50779bef994>\"\u001b[0;36m, line \u001b[0;32m12\u001b[0m\n\u001b[0;31m    else\u001b[0m\n\u001b[0m        ^\u001b[0m\n\u001b[0;31mSyntaxError\u001b[0m\u001b[0;31m:\u001b[0m invalid syntax\n"
     ]
    }
   ],
   "source": [
    "##EXERCICE1\n",
    "print(\"veillez entrer le premier nombre\")\n",
    "nbr1=int(input())\n",
    "print(\"veillez entrer le deuxieme nombre\")\n",
    "nbr2=int(input())\n",
    "print(\"veillez entrer le troisieme nombre\")\n",
    "nbr3=int(input())\n",
    "# définir et initialiser le maximum à zero\n",
    "max = 0\n",
    "if(nbr1 > nbr2):\n",
    "    max = nbr1\n",
    "else\n",
    "    max = nbr2\n",
    "if(max < nbr3):\n",
    "    max = nbr3\n",
    "else:\n",
    "    max = max\n",
    "print(\"Le maximum des trois nombre est : max(nbr1,nbr2,nbr3) = \", max)"
   ]
  },
  {
   "cell_type": "markdown",
   "id": "b1f6637d",
   "metadata": {},
   "source": [
    "##### ------------------------------------------------------------------------------------------------------------------------------------------\n",
    "## proposition"
   ]
  },
  {
   "cell_type": "code",
   "execution_count": 25,
   "id": "072c60cb",
   "metadata": {},
   "outputs": [
    {
     "ename": "KeyboardInterrupt",
     "evalue": "Interrupted by user",
     "output_type": "error",
     "traceback": [
      "\u001b[0;31m---------------------------------------------------------------------------\u001b[0m",
      "\u001b[0;31mKeyboardInterrupt\u001b[0m                         Traceback (most recent call last)",
      "\u001b[0;32m<ipython-input-25-1d3ff6e7f235>\u001b[0m in \u001b[0;36m<module>\u001b[0;34m\u001b[0m\n\u001b[1;32m     13\u001b[0m         \u001b[0mprint\u001b[0m\u001b[0;34m(\u001b[0m\u001b[0;34m'le max est :'\u001b[0m\u001b[0;34m,\u001b[0m\u001b[0mc\u001b[0m\u001b[0;34m)\u001b[0m\u001b[0;34m\u001b[0m\u001b[0;34m\u001b[0m\u001b[0m\n\u001b[1;32m     14\u001b[0m \u001b[0;34m\u001b[0m\u001b[0m\n\u001b[0;32m---> 15\u001b[0;31m \u001b[0me\u001b[0m\u001b[0;34m=\u001b[0m\u001b[0minput\u001b[0m\u001b[0;34m(\u001b[0m\u001b[0;34m'entrer nombre 1:\\n'\u001b[0m\u001b[0;34m)\u001b[0m\u001b[0;34m\u001b[0m\u001b[0;34m\u001b[0m\u001b[0m\n\u001b[0m\u001b[1;32m     16\u001b[0m \u001b[0mf\u001b[0m\u001b[0;34m=\u001b[0m\u001b[0minput\u001b[0m\u001b[0;34m(\u001b[0m\u001b[0;34m'entrer nombre 2:\\n'\u001b[0m\u001b[0;34m)\u001b[0m\u001b[0;34m\u001b[0m\u001b[0;34m\u001b[0m\u001b[0m\n\u001b[1;32m     17\u001b[0m \u001b[0mg\u001b[0m\u001b[0;34m=\u001b[0m\u001b[0minput\u001b[0m\u001b[0;34m(\u001b[0m\u001b[0;34m'entrer nombre 3:\\n'\u001b[0m\u001b[0;34m)\u001b[0m\u001b[0;34m\u001b[0m\u001b[0;34m\u001b[0m\u001b[0m\n",
      "\u001b[0;32m~/anaconda3/lib/python3.8/site-packages/ipykernel/kernelbase.py\u001b[0m in \u001b[0;36mraw_input\u001b[0;34m(self, prompt)\u001b[0m\n\u001b[1;32m    858\u001b[0m                 \u001b[0;34m\"raw_input was called, but this frontend does not support input requests.\"\u001b[0m\u001b[0;34m\u001b[0m\u001b[0;34m\u001b[0m\u001b[0m\n\u001b[1;32m    859\u001b[0m             )\n\u001b[0;32m--> 860\u001b[0;31m         return self._input_request(str(prompt),\n\u001b[0m\u001b[1;32m    861\u001b[0m             \u001b[0mself\u001b[0m\u001b[0;34m.\u001b[0m\u001b[0m_parent_ident\u001b[0m\u001b[0;34m,\u001b[0m\u001b[0;34m\u001b[0m\u001b[0;34m\u001b[0m\u001b[0m\n\u001b[1;32m    862\u001b[0m             \u001b[0mself\u001b[0m\u001b[0;34m.\u001b[0m\u001b[0m_parent_header\u001b[0m\u001b[0;34m,\u001b[0m\u001b[0;34m\u001b[0m\u001b[0;34m\u001b[0m\u001b[0m\n",
      "\u001b[0;32m~/anaconda3/lib/python3.8/site-packages/ipykernel/kernelbase.py\u001b[0m in \u001b[0;36m_input_request\u001b[0;34m(self, prompt, ident, parent, password)\u001b[0m\n\u001b[1;32m    902\u001b[0m             \u001b[0;32mexcept\u001b[0m \u001b[0mKeyboardInterrupt\u001b[0m\u001b[0;34m:\u001b[0m\u001b[0;34m\u001b[0m\u001b[0;34m\u001b[0m\u001b[0m\n\u001b[1;32m    903\u001b[0m                 \u001b[0;31m# re-raise KeyboardInterrupt, to truncate traceback\u001b[0m\u001b[0;34m\u001b[0m\u001b[0;34m\u001b[0m\u001b[0;34m\u001b[0m\u001b[0m\n\u001b[0;32m--> 904\u001b[0;31m                 \u001b[0;32mraise\u001b[0m \u001b[0mKeyboardInterrupt\u001b[0m\u001b[0;34m(\u001b[0m\u001b[0;34m\"Interrupted by user\"\u001b[0m\u001b[0;34m)\u001b[0m \u001b[0;32mfrom\u001b[0m \u001b[0;32mNone\u001b[0m\u001b[0;34m\u001b[0m\u001b[0;34m\u001b[0m\u001b[0m\n\u001b[0m\u001b[1;32m    905\u001b[0m             \u001b[0;32mexcept\u001b[0m \u001b[0mException\u001b[0m \u001b[0;32mas\u001b[0m \u001b[0me\u001b[0m\u001b[0;34m:\u001b[0m\u001b[0;34m\u001b[0m\u001b[0;34m\u001b[0m\u001b[0m\n\u001b[1;32m    906\u001b[0m                 \u001b[0mself\u001b[0m\u001b[0;34m.\u001b[0m\u001b[0mlog\u001b[0m\u001b[0;34m.\u001b[0m\u001b[0mwarning\u001b[0m\u001b[0;34m(\u001b[0m\u001b[0;34m\"Invalid Message:\"\u001b[0m\u001b[0;34m,\u001b[0m \u001b[0mexc_info\u001b[0m\u001b[0;34m=\u001b[0m\u001b[0;32mTrue\u001b[0m\u001b[0;34m)\u001b[0m\u001b[0;34m\u001b[0m\u001b[0;34m\u001b[0m\u001b[0m\n",
      "\u001b[0;31mKeyboardInterrupt\u001b[0m: Interrupted by user"
     ]
    }
   ],
   "source": [
    "#Exo1\n",
    "def maximum(a,b,c):\n",
    "\n",
    "#for i in liste:\n",
    "    if a > b and a>c:\n",
    "        print('---------------------------')\n",
    "        print('le max est :',a)\n",
    "    elif b>a and b>c:\n",
    "        print('---------------------------')\n",
    "        print('le max est :',b)\n",
    "    else:\n",
    "        print('---------------------------')\n",
    "        print('le max est :',c)    \n",
    "        \n",
    "e=input('entrer nombre 1:\\n')\n",
    "f=input('entrer nombre 2:\\n')\n",
    "g=input('entrer nombre 3:\\n')\n",
    "maximum(e,f,g)"
   ]
  },
  {
   "cell_type": "markdown",
   "id": "c1946131",
   "metadata": {},
   "source": [
    "# ????? on ne comprend pas de quoi il s'agit"
   ]
  },
  {
   "cell_type": "code",
   "execution_count": 4,
   "id": "571fbbd6",
   "metadata": {},
   "outputs": [
    {
     "name": "stdout",
     "output_type": "stream",
     "text": [
      "veillez entrer le premier nombre\n",
      "2\n",
      "veillez entrer le deuxieme nombre\n",
      "5\n",
      "veillez entrer le troisieme nombre\n",
      "2\n",
      "Le maximum des trois nombre est : max(nbr1,nbr2,nbr3) =  <function trouve_max at 0x7f41315bd160>\n"
     ]
    }
   ],
   "source": [
    "print(\"veillez entrer le premier nombre\")\n",
    "nbr1=int(input())\n",
    "print(\"veillez entrer le deuxieme nombre\")\n",
    "nbr2=int(input())\n",
    "print(\"veillez entrer le troisieme nombre\")\n",
    "nbr3=int(input())\n",
    "def trouve_max():\n",
    "# définir et initialiser le maximum à zero\n",
    "    return max\n",
    "if(nbr1 > nbr2):\n",
    "    max = nbr1\n",
    "else:\n",
    "    max = nbr2\n",
    "if(max < nbr3):\n",
    "    max = nbr3\n",
    "else:\n",
    "    max = max\n",
    "print(\"Le maximum des trois nombre est : max(nbr1,nbr2,nbr3) = \", trouve_max)"
   ]
  },
  {
   "cell_type": "markdown",
   "id": "a1e260f0",
   "metadata": {},
   "source": [
    "##### -----------------------------------------------------------------------------------------------------------------------------------------------------"
   ]
  },
  {
   "cell_type": "markdown",
   "id": "7f46d3b9",
   "metadata": {},
   "source": [
    "#  exercice 2 : instruction de l'exercice non respecté \" manque de la fonction\""
   ]
  },
  {
   "cell_type": "code",
   "execution_count": 26,
   "id": "e92aadbd",
   "metadata": {},
   "outputs": [
    {
     "name": "stdout",
     "output_type": "stream",
     "text": [
      "dcba4321\n"
     ]
    }
   ],
   "source": [
    "##EXERCICE2\n",
    "chaine='1234abcd'\n",
    "chaineA=chaine[::-1]\n",
    "print(chaineA)"
   ]
  },
  {
   "cell_type": "markdown",
   "id": "f4e5444f",
   "metadata": {},
   "source": [
    "### suggestion "
   ]
  },
  {
   "cell_type": "code",
   "execution_count": 27,
   "id": "18a844a3",
   "metadata": {},
   "outputs": [
    {
     "name": "stdout",
     "output_type": "stream",
     "text": [
      "entrer la chaine de caractèreidris\n",
      "----------------------\n",
      "la chaine de caractère renversée est : sirdi\n"
     ]
    }
   ],
   "source": [
    "#exo2\n",
    "def rev(a):\n",
    "    print('----------------------')\n",
    "    print('la chaine de caractère renversée est :',a[::-1])\n",
    "    \n",
    "b=input('entrer la chaine de caractère')\n",
    "rev(b)\n"
   ]
  },
  {
   "cell_type": "markdown",
   "id": "9be2a1a1",
   "metadata": {},
   "source": [
    "##### -----------------------------------------------------------------------------------------------------------------------------------------------------"
   ]
  },
  {
   "cell_type": "markdown",
   "id": "5b217e7c",
   "metadata": {},
   "source": [
    "### Exercice 3 : une condition de factoriel n'est pas respecter\n",
    "#### par conséquent un bug survient avec un nombre négatif exemple -5"
   ]
  },
  {
   "cell_type": "code",
   "execution_count": 29,
   "id": "b3e11060",
   "metadata": {},
   "outputs": [
    {
     "name": "stdout",
     "output_type": "stream",
     "text": [
      "entrez un nombre :4\n",
      "le factoriel de n est: 24\n"
     ]
    }
   ],
   "source": [
    "##EXERCICE3\n",
    "def factoriel(n): \n",
    "    if n == 1:\n",
    "        return n\n",
    "    else:\n",
    "        return n * factoriel(n - 1)\n",
    "n = int(input(\"entrez un nombre :\"))\n",
    "print(\"le factoriel de n est:\", (factoriel(n)))  "
   ]
  },
  {
   "cell_type": "markdown",
   "id": "04cf2830",
   "metadata": {},
   "source": [
    "\n",
    "### proposition de correction"
   ]
  },
  {
   "cell_type": "code",
   "execution_count": 20,
   "id": "90529336",
   "metadata": {},
   "outputs": [
    {
     "name": "stdout",
     "output_type": "stream",
     "text": [
      "entrer un nombre4\n"
     ]
    },
    {
     "data": {
      "text/plain": [
       "24"
      ]
     },
     "execution_count": 20,
     "metadata": {},
     "output_type": "execute_result"
    }
   ],
   "source": [
    "#exo3\n",
    "def factorial(num):\n",
    "    if num < 0:\n",
    "        print(\"le factoriel negative\")\n",
    "    elif num == 0:\n",
    "        return 1\n",
    "    else :\n",
    "        fact=1\n",
    "        while(num> 1):\n",
    "            fact*=num\n",
    "            num-=1\n",
    "        return fact\n",
    "nombre = int(input('entrer un nombre'))\n",
    "factorial(nombre)\n",
    "    "
   ]
  },
  {
   "cell_type": "markdown",
   "id": "3f092a8a",
   "metadata": {},
   "source": [
    "### Excercice 5 vous n'avez pas utiliser la fonction \n"
   ]
  },
  {
   "cell_type": "code",
   "execution_count": 9,
   "id": "8fe5bb30",
   "metadata": {},
   "outputs": [
    {
     "name": "stdout",
     "output_type": "stream",
     "text": [
      "[1, 2, 3, 4, 5, 6]\n"
     ]
    }
   ],
   "source": [
    "##EXERCICE5\n",
    "liste = [1,2,3,3,3,3,4,4,5,5,5,6]\n",
    "new_liste = []\n",
    "for i in liste:\n",
    "    if i not in new_liste:\n",
    "        new_liste.append(i)\n",
    "print(new_liste)"
   ]
  },
  {
   "cell_type": "markdown",
   "id": "482ad3dc",
   "metadata": {},
   "source": [
    "#### l'exercice 4 ne marche pas car elle ne donne pas le nombre"
   ]
  },
  {
   "cell_type": "code",
   "execution_count": 31,
   "id": "f65d01f7",
   "metadata": {},
   "outputs": [
    {
     "name": "stdout",
     "output_type": "stream",
     "text": [
      "\"Idris\"\n"
     ]
    }
   ],
   "source": [
    "## Exercice 4\n",
    "lettre= str(input())\n",
    "def lettre():\n",
    "    print(\"le nombre de majuscule  :\", sum(1 for c in lettre if c.issuper()))\n",
    "    return "
   ]
  },
  {
   "cell_type": "markdown",
   "id": "9ef7ee26",
   "metadata": {},
   "source": [
    "## l'exercice 6 : ne marche pas car avec 5 y'a pas de reponse\n",
    "### et vous n'avez pas respecter les instructions de l'exercice"
   ]
  },
  {
   "cell_type": "code",
   "execution_count": 35,
   "id": "5919fb36",
   "metadata": {},
   "outputs": [
    {
     "name": "stdout",
     "output_type": "stream",
     "text": [
      "le nombre premier:5\n"
     ]
    }
   ],
   "source": [
    "##EXERCICE6\n",
    "nombre = input(\"le nombre premier:\")\n",
    "nombre = int(nombre)\n",
    "i = 2\n",
    "while i < nombre and nombre % i != 0 :\n",
    "    i = i+1\n",
    "if i == nombre :\n",
    "    est_premier = True\n",
    "else :\n",
    "    est_premier = False\n",
    "    print(\"ce n'est pas un nombre premier\")"
   ]
  },
  {
   "cell_type": "markdown",
   "id": "6f455281",
   "metadata": {},
   "source": [
    "### proposition"
   ]
  },
  {
   "cell_type": "code",
   "execution_count": 36,
   "id": "aa6f71fc",
   "metadata": {},
   "outputs": [
    {
     "name": "stdout",
     "output_type": "stream",
     "text": [
      "Écris un nombre entier positif : 5\n",
      "------------------------------------------------------------------\n",
      "Le programme est en train de vérifier si ce nombre est premier...\n",
      "------------------------------------------------------------------\n",
      "\n",
      "\n",
      "Le nombre 5 est premier ! Fantastique !\n"
     ]
    }
   ],
   "source": [
    "#exo6\n",
    "def nbr_pre(nombre):\n",
    "    print('------------------------------------------------------------------')\n",
    "    print('Le programme est en train de vérifier si ce nombre est premier...')\n",
    "    print('------------------------------------------------------------------\\n\\n')\n",
    "    i = 2\n",
    "    while i < nombre and nombre % i != 0 :\n",
    "        i = i + 1\n",
    "    if i == nombre :\n",
    "            print('Le nombre', nombre, 'est premier ! Fantastique !')\n",
    "    else :\n",
    "        print('Ce n\\'est pas un nombre premier.')\n",
    "   \n",
    "nombre = input('Écris un nombre entier positif : ')\n",
    "\n",
    "nombre = int(nombre)\n",
    "nbr_pre(nombre)"
   ]
  },
  {
   "cell_type": "code",
   "execution_count": null,
   "id": "6a2a4698",
   "metadata": {},
   "outputs": [],
   "source": []
  }
 ],
 "metadata": {
  "kernelspec": {
   "display_name": "Python 3",
   "language": "python",
   "name": "python3"
  },
  "language_info": {
   "codemirror_mode": {
    "name": "ipython",
    "version": 3
   },
   "file_extension": ".py",
   "mimetype": "text/x-python",
   "name": "python",
   "nbconvert_exporter": "python",
   "pygments_lexer": "ipython3",
   "version": "3.8.8"
  }
 },
 "nbformat": 4,
 "nbformat_minor": 5
}
